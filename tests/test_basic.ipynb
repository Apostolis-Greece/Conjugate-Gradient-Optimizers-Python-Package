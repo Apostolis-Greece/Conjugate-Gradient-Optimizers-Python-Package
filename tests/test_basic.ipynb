{
 "cells": [
  {
   "cell_type": "code",
   "execution_count": 1,
   "metadata": {},
   "outputs": [],
   "source": [
    "import torch\n",
    "import math\n",
    "import os\n",
    "import sys\n",
    "sys.path.append(r'../ncg_optimizer')\n",
    "from fr import FR\n",
    "#import ncg_optimizer as optim\n",
    "MyDevice = torch.device(\"cuda:0\" if torch.cuda.is_available() else \"cpu\")"
   ]
  },
  {
   "cell_type": "code",
   "execution_count": 2,
   "metadata": {},
   "outputs": [],
   "source": [
    "def quadratic(tensor):\n",
    "    x, y = tensor\n",
    "    a = 2.0\n",
    "    b = 1.0\n",
    "    return (x ** 2) / a + (y ** 2) / b + 2 * x * y - x\n",
    "initial_state = (-2.0, -2.0)\n",
    "min_loc = (-1, 1)\n",
    "min = torch.tensor(quadratic(min_loc),device=MyDevice)"
   ]
  },
  {
   "cell_type": "code",
   "execution_count": 2,
   "metadata": {},
   "outputs": [],
   "source": [
    "def rosenbrock(tensor):\n",
    "    x, y = tensor\n",
    "    return (1 - x) ** 2 + 1 * (y - x ** 2) ** 2\n",
    "initial_state = (-2.0, -2.0)\n",
    "min_loc = (1, 1)\n",
    "min = torch.tensor(rosenbrock(min_loc),device=MyDevice)"
   ]
  },
  {
   "cell_type": "code",
   "execution_count": 2,
   "metadata": {},
   "outputs": [],
   "source": [
    "def beale(tensor):\n",
    "    x, y = tensor\n",
    "    f = (\n",
    "        (1.5 - x + x * y) ** 2\n",
    "        + (2.25 - x + x * y ** 2) ** 2\n",
    "        + (2.625 - x + x * y ** 3) ** 2\n",
    "    )\n",
    "    return f\n",
    "initial_state = (1.5, 1.5)\n",
    "min_loc = (3, 0.5)\n",
    "min = torch.tensor(beale(min_loc),device=MyDevice)"
   ]
  },
  {
   "cell_type": "code",
   "execution_count": 2,
   "metadata": {},
   "outputs": [
    {
     "name": "stderr",
     "output_type": "stream",
     "text": [
      "c:\\Users\\Administrator\\.conda\\envs\\UUE\\lib\\site-packages\\ipykernel_launcher.py:13: UserWarning: To copy construct from a tensor, it is recommended to use sourceTensor.clone().detach() or sourceTensor.clone().detach().requires_grad_(True), rather than torch.tensor(sourceTensor).\n",
      "  del sys.path[0]\n"
     ]
    }
   ],
   "source": [
    "def rastrigin(tensor, lib=torch):\n",
    "    # https://en.wikipedia.org/wiki/Test_functions_for_optimization\n",
    "    x, y = tensor\n",
    "    A = 10\n",
    "    f = (\n",
    "        A * 2\n",
    "        + (x ** 2 - A * lib.cos(x * math.pi * 2))\n",
    "        + (y ** 2 - A * lib.cos(y * math.pi * 2))\n",
    "    )\n",
    "    return f\n",
    "initial_state = (-2.0, 3.5)\n",
    "min_loc = (0, 0)\n",
    "min = torch.tensor(rastrigin(torch.tensor(min_loc,device=MyDevice)))"
   ]
  },
  {
   "cell_type": "code",
   "execution_count": 3,
   "metadata": {},
   "outputs": [],
   "source": [
    "x = torch.tensor(initial_state,device=MyDevice).requires_grad_(True)\n",
    "x_min = torch.tensor(min_loc,device=MyDevice)\n",
    "iterations = 500"
   ]
  },
  {
   "cell_type": "code",
   "execution_count": null,
   "metadata": {},
   "outputs": [],
   "source": [
    "#optimizer = optim.LCG([x], eps = 1e-3)\n",
    "#optimizer = FR([x], eps=1e-3, line_search='Armijo', lr=0.1)\n",
    "optimizer = FR([x], eps=1e-3, line_search='Wolfe', c2=0.9, lr=0.5, eta=5)\n",
    "#optimizer = FR([x], eps=1e-3, line_search='None')\n",
    "for _ in range(iterations):\n",
    "    def closure():\n",
    "        #print(x)\n",
    "        optimizer.zero_grad()\n",
    "        #f = quadratic(x)\n",
    "        f = rosenbrock(x)\n",
    "        #f = beale(x)\n",
    "        #f = rastrigin(x)\n",
    "        f.backward(retain_graph=True, create_graph=True)\n",
    "        return f\n",
    "    print(closure() - min)\n",
    "    optimizer.step(closure)\n",
    "    if torch.allclose(x, x_min.float(), atol=0.01) or torch.allclose(closure(), min.float(), atol=0.02):\n",
    "        break\n",
    "torch.allclose(closure(), min.float(), atol=0.02)"
   ]
  }
 ],
 "metadata": {
  "kernelspec": {
   "display_name": "UUE",
   "language": "python",
   "name": "python3"
  },
  "language_info": {
   "codemirror_mode": {
    "name": "ipython",
    "version": 3
   },
   "file_extension": ".py",
   "mimetype": "text/x-python",
   "name": "python",
   "nbconvert_exporter": "python",
   "pygments_lexer": "ipython3",
   "version": "3.7.13"
  },
  "orig_nbformat": 4,
  "vscode": {
   "interpreter": {
    "hash": "0326a7f9ed817c17642f61d66b02c6fdb6b9844b168a64b2475a75c5fdc150c7"
   }
  }
 },
 "nbformat": 4,
 "nbformat_minor": 2
}
