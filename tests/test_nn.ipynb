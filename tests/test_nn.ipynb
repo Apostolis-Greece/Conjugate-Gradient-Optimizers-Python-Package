{
 "cells": [
  {
   "cell_type": "code",
   "execution_count": 1,
   "metadata": {},
   "outputs": [],
   "source": [
    "import numpy as np\n",
    "import torch\n",
    "from torch import nn\n",
    "import os\n",
    "import sys\n",
    "sys.path.append(r'../ncg_optimizer')\n",
    "from fr import FR\n",
    "#import ncg_optimizer as optim"
   ]
  },
  {
   "cell_type": "code",
   "execution_count": 2,
   "metadata": {},
   "outputs": [],
   "source": [
    "def make_dataset(seed=42):\n",
    "    rng = np.random.RandomState(seed)\n",
    "    N = 100\n",
    "    D = 2\n",
    "\n",
    "    X = rng.randn(N, D) * 2\n",
    "\n",
    "    # center the first N/2 points at (-2,-2)\n",
    "    mid = N // 2\n",
    "    X[:mid, :] = X[:mid, :] - 2 * np.ones((mid, D))\n",
    "\n",
    "    # center the last N/2 points at (2, 2)\n",
    "    X[mid:, :] = X[mid:, :] + 2 * np.ones((mid, D))\n",
    "\n",
    "    # labels: first N/2 are 0, last N/2 are 1\n",
    "    Y = np.array([0] * mid + [1] * mid).reshape(100, 1)\n",
    "\n",
    "    x = torch.Tensor(X)\n",
    "    y = torch.Tensor(Y)\n",
    "    return x, y\n"
   ]
  },
  {
   "cell_type": "code",
   "execution_count": 3,
   "metadata": {},
   "outputs": [],
   "source": [
    "class LogisticRegression(nn.Module):\n",
    "    def __init__(self):\n",
    "        super(LogisticRegression, self).__init__()\n",
    "        self.linear1 = nn.Linear(2, 4)\n",
    "        self.linear2 = nn.Linear(4, 1)\n",
    "\n",
    "    def forward(self, x):\n",
    "        output = torch.relu(self.linear1(x))\n",
    "        output = self.linear2(output)\n",
    "        y_pred = torch.sigmoid(output)\n",
    "        return y_pred"
   ]
  },
  {
   "cell_type": "code",
   "execution_count": null,
   "metadata": {},
   "outputs": [],
   "source": [
    "torch.manual_seed(42)\n",
    "x_data, y_data = make_dataset()\n",
    "model = LogisticRegression()\n",
    "iterations = 500\n",
    "loss_fn = nn.BCELoss()\n",
    "#optimizer = FR(model.parameters(), eps=1e-3, line_search='Armijo', lr=0.1)\n",
    "optimizer = FR(model.parameters(), eps=1e-3, line_search='Wolfe', c2=0.9, lr=0.5, eta=5)\n",
    "for _ in range(iterations):\n",
    "    def closure():\n",
    "        optimizer.zero_grad()\n",
    "        y_pred = model(x_data)\n",
    "        loss = loss_fn(y_pred, y_data)\n",
    "        print(loss)\n",
    "        loss.backward(create_graph=True)\n",
    "        return loss\n",
    "    optimizer.step(closure)"
   ]
  }
 ],
 "metadata": {
  "kernelspec": {
   "display_name": "UUE",
   "language": "python",
   "name": "python3"
  },
  "language_info": {
   "codemirror_mode": {
    "name": "ipython",
    "version": 3
   },
   "file_extension": ".py",
   "mimetype": "text/x-python",
   "name": "python",
   "nbconvert_exporter": "python",
   "pygments_lexer": "ipython3",
   "version": "3.7.13"
  },
  "orig_nbformat": 4,
  "vscode": {
   "interpreter": {
    "hash": "0326a7f9ed817c17642f61d66b02c6fdb6b9844b168a64b2475a75c5fdc150c7"
   }
  }
 },
 "nbformat": 4,
 "nbformat_minor": 2
}
