{
 "cells": [
  {
   "cell_type": "code",
   "execution_count": 1,
   "metadata": {},
   "outputs": [],
   "source": [
    "import torch\n",
    "\n",
    "import os\n",
    "import sys\n",
    "sys.path.append(r'../ncg_optimizer')\n",
    "from fr import FR\n",
    "#import ncg_optimizer as optim"
   ]
  },
  {
   "cell_type": "code",
   "execution_count": 2,
   "metadata": {},
   "outputs": [],
   "source": [
    "def quadratic(tensor):\n",
    "    x, y = tensor\n",
    "    a = 2.0\n",
    "    b = 1.0\n",
    "    return (x ** 2) / a + (y ** 2) / b + 2 * x * y - x\n",
    "min_loc = (-1, 1)"
   ]
  },
  {
   "cell_type": "code",
   "execution_count": 2,
   "metadata": {},
   "outputs": [],
   "source": [
    "def rosenbrock(tensor):\n",
    "    x, y = tensor\n",
    "    return (1 - x) ** 2 + 1 * (y - x ** 2) ** 2\n",
    "min_loc = (1, 1)"
   ]
  },
  {
   "cell_type": "code",
   "execution_count": 3,
   "metadata": {},
   "outputs": [],
   "source": [
    "def beale(tensor):\n",
    "    x, y = tensor\n",
    "    f = (\n",
    "        (1.5 - x + x * y) ** 2\n",
    "        + (2.25 - x + x * y ** 2) ** 2\n",
    "        + (2.625 - x + x * y ** 3) ** 2\n",
    "    )\n",
    "    return f\n",
    "min_loc = (3, 0.5)"
   ]
  },
  {
   "cell_type": "code",
   "execution_count": 3,
   "metadata": {},
   "outputs": [],
   "source": [
    "initial_state = (1.5, 1.5)\n",
    "MyDevice = torch.device(\"cuda:0\" if torch.cuda.is_available() else \"cpu\")\n",
    "x = torch.tensor(initial_state,device=MyDevice).requires_grad_(True)\n",
    "x_min = torch.tensor(min_loc,device=MyDevice)\n",
    "iterations = 500"
   ]
  },
  {
   "cell_type": "code",
   "execution_count": null,
   "metadata": {},
   "outputs": [],
   "source": [
    "#optimizer = FR([x], eps=1e-3, line_search='Armijo', lr=0.1)\n",
    "#optimizer = FR([x], eps=1e-3, line_search='Wolfe', c2=0.9, lr=0.5, eta=5)\n",
    "optimizer = FR([x], eps=1e-3, line_search='Strong_Wolfe', c2=0.1, lr=0.1, amax=0.6)\n",
    "#optimizer = FR([x], eps=1e-3, line_search='None')\n",
    "for _ in range(iterations):\n",
    "    def closure():\n",
    "        #print(x)\n",
    "        optimizer.zero_grad()\n",
    "        f = quadratic(x)\n",
    "        #f = rosenbrock(x)\n",
    "        #f = beale(x)\n",
    "        f.backward(retain_graph=True, create_graph=True)\n",
    "        return f\n",
    "    optimizer.step(closure)\n",
    "    if torch.allclose(x, x_min.float(), atol=0.01):\n",
    "        break\n",
    "torch.allclose(x, x_min.float(), atol=0.01)"
   ]
  }
 ],
 "metadata": {
  "kernelspec": {
   "display_name": "UUE",
   "language": "python",
   "name": "python3"
  },
  "language_info": {
   "codemirror_mode": {
    "name": "ipython",
    "version": 3
   },
   "file_extension": ".py",
   "mimetype": "text/x-python",
   "name": "python",
   "nbconvert_exporter": "python",
   "pygments_lexer": "ipython3",
   "version": "3.7.13"
  },
  "orig_nbformat": 4,
  "vscode": {
   "interpreter": {
    "hash": "0326a7f9ed817c17642f61d66b02c6fdb6b9844b168a64b2475a75c5fdc150c7"
   }
  }
 },
 "nbformat": 4,
 "nbformat_minor": 2
}
