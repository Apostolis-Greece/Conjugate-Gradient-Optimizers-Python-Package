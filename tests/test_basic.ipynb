{
 "cells": [
  {
   "cell_type": "code",
   "execution_count": null,
   "metadata": {},
   "outputs": [],
   "source": [
    "import torch\n",
    "\n",
    "import ncg_optimizer as optim"
   ]
  },
  {
   "cell_type": "code",
   "execution_count": null,
   "metadata": {},
   "outputs": [],
   "source": [
    "def quadratic(tensor):\n",
    "    x, y = tensor\n",
    "    a = 2.0\n",
    "    b = 1.0\n",
    "    return (x ** 2) / a + (y ** 2) / b + 2 * x * y -x"
   ]
  },
  {
   "cell_type": "code",
   "execution_count": null,
   "metadata": {},
   "outputs": [],
   "source": [
    "def rosenbrock(tensor):\n",
    "    x, y = tensor\n",
    "    return (1 - x) ** 2 + 1 * (y - x ** 2) ** 2"
   ]
  },
  {
   "cell_type": "code",
   "execution_count": null,
   "metadata": {},
   "outputs": [],
   "source": [
    "def beale(tensor):\n",
    "    x, y = tensor\n",
    "    f = (\n",
    "        (1.5 - x + x * y) ** 2\n",
    "        + (2.25 - x + x * y ** 2) ** 2\n",
    "        + (2.625 - x + x * y ** 3) ** 2\n",
    "    )\n",
    "    return f"
   ]
  },
  {
   "cell_type": "code",
   "execution_count": null,
   "metadata": {},
   "outputs": [],
   "source": [
    "initial_state = (1.5, 1.5)\n",
    "min_loc = (-1, 1)\n",
    "MyDevice = torch.device(\"cuda:0\" if torch.cuda.is_available() else \"cpu\")\n",
    "x = torch.tensor(initial_state,device=MyDevice).requires_grad_(True)\n",
    "x_min = torch.tensor(min_loc,device=MyDevice)\n",
    "iterations = 500"
   ]
  },
  {
   "cell_type": "code",
   "execution_count": null,
   "metadata": {},
   "outputs": [],
   "source": [
    "optimizer = optim.LCG([x], eps=1e-3)\n",
    "for _ in range(iterations):\n",
    "    def closure():\n",
    "        optimizer.zero_grad()\n",
    "        f = quadratic(x)\n",
    "        f.backward(retain_graph=True, create_graph=True)\n",
    "        return f\n",
    "    optimizer.step(closure)\n",
    "torch.allclose(x, x_min.float(), atol=0.001)"
   ]
  }
 ],
 "metadata": {
  "kernelspec": {
   "display_name": "UUE",
   "language": "python",
   "name": "python3"
  },
  "language_info": {
   "codemirror_mode": {
    "name": "ipython",
    "version": 3
   },
   "file_extension": ".py",
   "mimetype": "text/x-python",
   "name": "python",
   "nbconvert_exporter": "python",
   "pygments_lexer": "ipython3",
   "version": "3.7.13 (default, Mar 28 2022, 08:03:21) [MSC v.1916 64 bit (AMD64)]"
  },
  "orig_nbformat": 4,
  "vscode": {
   "interpreter": {
    "hash": "0326a7f9ed817c17642f61d66b02c6fdb6b9844b168a64b2475a75c5fdc150c7"
   }
  }
 },
 "nbformat": 4,
 "nbformat_minor": 2
}
