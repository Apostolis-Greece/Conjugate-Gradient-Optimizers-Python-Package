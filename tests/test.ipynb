{
 "cells": [],
 "metadata": {
  "kernelspec": {
   "display_name": "UUE",
   "language": "python",
   "name": "python3"
  },
  "language_info": {
   "codemirror_mode": {
    "name": "ipython",
    "version": 3
   },
   "file_extension": ".py",
   "mimetype": "text/x-python",
   "name": "python",
   "nbconvert_exporter": "python",
   "pygments_lexer": "ipython3",
   "version": "3.7.13"
  },
  "orig_nbformat": 4,
  "vscode": {
   "interpreter": {
    "hash": "0326a7f9ed817c17642f61d66b02c6fdb6b9844b168a64b2475a75c5fdc150c7"
   }
  }
 },
 "nbformat": 4,
 "nbformat_minor": 2
}
